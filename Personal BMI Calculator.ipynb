{
 "cells": [
  {
   "cell_type": "markdown",
   "id": "2df0079c-04ae-424a-8913-7b86e91f30d3",
   "metadata": {},
   "source": [
    "# BMI Calculator"
   ]
  },
  {
   "cell_type": "code",
   "execution_count": null,
   "id": "446824c2",
   "metadata": {},
   "outputs": [],
   "source": []
  },
  {
   "cell_type": "code",
   "execution_count": null,
   "id": "fb123040-ae5e-4286-989e-c2a2a19a5ef8",
   "metadata": {},
   "outputs": [
    {
     "name": "stdout",
     "output_type": "stream",
     "text": [
      "Enter you Name: rick\n",
      "Enter your weight in pounds:  170\n",
      "Enter your height in inches:  69\n"
     ]
    },
    {
     "name": "stdout",
     "output_type": "stream",
     "text": [
      "You BMI are :  25.101869355177485\n",
      "rick,You are Overweight\n"
     ]
    }
   ],
   "source": [
    "name = input(\"Enter you Name:\")\n",
    "weight = int(input(\"Enter your weight in pounds: \"))\n",
    "height = int(input(\"Enter your height in inches: \"))\n",
    "\n",
    "BMI = (weight * 703)/ (height * height)\n",
    "\n",
    "print(\"You BMI are : \",BMI)\n",
    "\n",
    "if BMI > 0:\n",
    "    if(BMI<18.5):\n",
    "        print(name + \",You are Uderweight\")\n",
    "    elif (BMI<=24.9):\n",
    "        print(name +\",You are Normal weight\")\n",
    "    elif (BMI<=29.9):\n",
    "        print(name +\",You are Overweight\")\n",
    "    elif (BMI<=34.9):\n",
    "        print(name +\",You are Obese\")\n",
    "    elif (BMI<=39.9):\n",
    "        print(name +\",You are Severely obese\")\n",
    "    else:\n",
    "        print(name +\",You are Morbidly obese\")\n",
    "else:\n",
    "    print(\"Enter valid input\")"
   ]
  },
  {
   "cell_type": "code",
   "execution_count": null,
   "id": "ff7901e2-776a-46de-b3e1-1e54a78ca00f",
   "metadata": {},
   "outputs": [],
   "source": [
    "# BMI = (weight in pounds x 703)/ (height in inches x height in inches)"
   ]
  },
  {
   "cell_type": "code",
   "execution_count": null,
   "id": "7e7832d8-3af2-456f-a555-227f6d299966",
   "metadata": {},
   "outputs": [],
   "source": []
  },
  {
   "cell_type": "code",
   "execution_count": null,
   "id": "fcd6c701-02e4-48e3-93de-73be04585670",
   "metadata": {},
   "outputs": [],
   "source": [
    "# under 18.5 Uderweight - minimal\n",
    "#18.5 - 24.9 Normal weight - minimal\n",
    "#25 - 29.9 Overweight - Increased\n",
    "#30 - 34.9 Obese - High\n",
    "#35 - 39.9 Severely obese - Very High\n",
    "#40 and over Morbidly obese - Extremely High"
   ]
  },
  {
   "cell_type": "code",
   "execution_count": null,
   "id": "466dc125-bbf1-472b-91be-6a5c03a4f9f9",
   "metadata": {},
   "outputs": [
    {
     "name": "stdout",
     "output_type": "stream",
     "text": [
      "Rick,You are Overweight\n"
     ]
    }
   ],
   "source": [
    "if BMI > 0:\n",
    "    if(BMI<18.5):\n",
    "        print(name + \",You are Uderweight\")\n",
    "    elif (BMI<=24.9):\n",
    "        print(name +\",You are Normal weight\")\n",
    "    elif (BMI<=29.9):\n",
    "        print(name +\",You are Overweight\")\n",
    "    elif (BMI<=34.9):\n",
    "        print(name +\",You are Obese\")\n",
    "    elif (BMI<=39.9):\n",
    "        print(name +\",You are Severely obese\")\n",
    "    else:\n",
    "        print(name +\",You are Morbidly obese\")\n",
    "else:\n",
    "    print(\"Enter valid input\")"
   ]
  },
  {
   "cell_type": "code",
   "execution_count": null,
   "id": "ea887f69-e2de-46ad-8c76-1f76d2abba35",
   "metadata": {},
   "outputs": [],
   "source": []
  },
  {
   "cell_type": "code",
   "execution_count": null,
   "id": "8f1e15e3-241b-4ddf-b01e-576af516f08b",
   "metadata": {},
   "outputs": [],
   "source": []
  },
  {
   "cell_type": "code",
   "execution_count": null,
   "id": "05cb720f-42e7-407a-9b9a-52af810e1a2d",
   "metadata": {},
   "outputs": [],
   "source": []
  },
  {
   "cell_type": "code",
   "execution_count": null,
   "id": "50fa296d-00c9-4ef2-90a0-209d17a0edea",
   "metadata": {},
   "outputs": [],
   "source": []
  },
  {
   "cell_type": "code",
   "execution_count": null,
   "id": "857a15dc-b17a-4d01-acdd-77d25b68db15",
   "metadata": {},
   "outputs": [],
   "source": []
  }
 ],
 "metadata": {
  "kernelspec": {
   "display_name": "Python 3 (ipykernel)",
   "language": "python",
   "name": "python3"
  },
  "language_info": {
   "codemirror_mode": {
    "name": "ipython",
    "version": 3
   },
   "file_extension": ".py",
   "mimetype": "text/x-python",
   "name": "python",
   "nbconvert_exporter": "python",
   "pygments_lexer": "ipython3",
   "version": "3.13.5"
  }
 },
 "nbformat": 4,
 "nbformat_minor": 5
}
